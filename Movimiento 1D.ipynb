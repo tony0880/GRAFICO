{
 "cells": [
  {
   "cell_type": "markdown",
   "metadata": {},
   "source": [
    "# Movimiento de una partícula en una dimensión"
   ]
  },
  {
   "cell_type": "markdown",
   "metadata": {},
   "source": [
    "Cuando una partícula presenta movimiento, este puede ser de tipo rectilíneo uniforme (MRU) o también rectilíneo uniforme acelerado (MRUA). Entre las principales ecuaciones se tienen:\n"
   ]
  },
  {
   "cell_type": "markdown",
   "metadata": {},
   "source": [
    "## MRU"
   ]
  },
  {
   "cell_type": "markdown",
   "metadata": {},
   "source": [
    "La ecuación principal para un movimiento rectilíneo uniforme es igual a:\n",
    "$$\n",
    "v = \\dfrac{d}{t}\n",
    "$$\n",
    "\n",
    "Esta, por medio de operaciones algebraicas, se puede reescribir como:\n",
    "$$\n",
    "t = \\dfrac{d}{v}\n",
    "$$ $$\n",
    "d = vt\n",
    "$$\n"
   ]
  },
  {
   "cell_type": "markdown",
   "metadata": {},
   "source": [
    "## MRUA"
   ]
  },
  {
   "cell_type": "markdown",
   "metadata": {},
   "source": [
    "Cuando la partícula presenta aceleración, las ecuaciones se definen como:\n",
    "$$\n",
    "x = x_0 + v(t-t_0) + \\dfrac{1}{2}a(t-t_0)^2\n",
    "$$\n",
    "$$\n",
    "v = v_0 + a(t-t_0)\n",
    "$$\n",
    "$$\n",
    "v^2 = v_0^2 + 2a(x-x_0)\n",
    "$$\n"
   ]
  },
  {
   "cell_type": "markdown",
   "metadata": {},
   "source": [
    "Con base a dichas ecuaciones se generan los siguientes gráficos para velocidad, desplazamiento y aceleración en función del tiempo."
   ]
  },
  {
   "cell_type": "code",
   "execution_count": 1,
   "metadata": {
    "scrolled": true
   },
   "outputs": [
    {
     "data": {
      "application/vnd.jupyter.widget-view+json": {
       "model_id": "d6b69eac8c7848a4b9dc3884b6d17213",
       "version_major": 2,
       "version_minor": 0
      },
      "text/plain": [
       "interactive(children=(IntSlider(value=0, description='Velocidad inicial (m/s):', max=50, min=-50), IntSlider(v…"
      ]
     },
     "metadata": {},
     "output_type": "display_data"
    }
   ],
   "source": [
    "from ipywidgets import interactive\n",
    "import ipywidgets as widgets\n",
    "from IPython.display import display \n",
    "import numpy as np\n",
    "import matplotlib.pyplot as plt\n",
    "\n",
    "def CalculoVelocidad (arregloTiempo, velInicial, aceleración):\n",
    "    velocidad = velInicial + aceleración * arregloTiempo\n",
    "    return velocidad\n",
    "\n",
    "def GraficoInteractivoVelocidad (velInicial, aceleración,tiempo):\n",
    "\n",
    "  arregloTiempo = np.linspace (0, tiempo, 20)\n",
    "    \n",
    "  velocidadActual = CalculoVelocidad (arregloTiempo, velInicial, aceleración)\n",
    " \n",
    "  fig, ax = plt.subplots (dpi=120)\n",
    "    \n",
    "  ax.set_xlabel('Tiempo (s)')\n",
    "  ax.set_ylabel('Velocidad (m/s)')\n",
    "  plt.xlim (0, 35)\n",
    "  ax.plot (arregloTiempo, velocidadActual)\n",
    "  ax.set_title('Velocidad de una partícula en una dimensión')\n",
    "    \n",
    "  plt.show()\n",
    " \n",
    "  return\n",
    "\n",
    "y=interactive(GraficoInteractivoVelocidad, velInicial=widgets.IntSlider(min=-50.0, max=50.0, step=1.0, value=0.0, description='Velocidad inicial (m/s):'),\n",
    "              aceleración=widgets.IntSlider(min=-5, max=5, step=1, value=0, description='Aceleración (m/s^2):'),\n",
    "              tiempo=widgets.IntSlider(min=0, max=30, step=1, value=0, description='Tiempo (s):'))\n",
    "display(y)"
   ]
  },
  {
   "cell_type": "markdown",
   "metadata": {},
   "source": [
    "Se observa que utlizando la ecuación:\n",
    "$$\n",
    "v = v_0 + a(t-t_0)\n",
    "$$\n",
    "La velocidad, tanto para un movimiento acelerado o no, tiene un comportamiento lineal, donde su pendiente depende de la aceleración y la velocidad inicial indica la intersección con el eje y.\n",
    "Para los casos donde se tiene un MRU, la aceleración es 0, por lo que la pendiente es nula y la velocidad se mantendrá constante por todo el recorrido.\n",
    "\n"
   ]
  },
  {
   "cell_type": "code",
   "execution_count": 4,
   "metadata": {},
   "outputs": [
    {
     "data": {
      "application/vnd.jupyter.widget-view+json": {
       "model_id": "626c2ece453044a8bdaca52ff2945a82",
       "version_major": 2,
       "version_minor": 0
      },
      "text/plain": [
       "interactive(children=(IntSlider(value=0, description='Posición inicial (m):', max=10, min=-10), IntSlider(valu…"
      ]
     },
     "metadata": {},
     "output_type": "display_data"
    }
   ],
   "source": [
    "def CalculoPosición (posInicial, arregloTiempo, velInicial, aceleración):\n",
    "    posición = posInicial + velInicial * arregloTiempo + 1/2 * aceleración * arregloTiempo ** 2\n",
    "    return posición\n",
    "\n",
    "def GraficoInteractivoPosición(posInicial, velInicial, aceleración,tiempo):\n",
    "\n",
    "  arregloTiempo = np.linspace (0, tiempo, 20)\n",
    "    \n",
    "  posiciónActual = CalculoPosición (posInicial, arregloTiempo, velInicial, aceleración)\n",
    " \n",
    "  fig, ax = plt.subplots (dpi=120)\n",
    "    \n",
    "  ax.set_xlabel('Tiempo (s)')\n",
    "  ax.set_ylabel('Posición (m)')\n",
    "  plt.xlim (0, 35)\n",
    "  ax.plot (arregloTiempo, posiciónActual)\n",
    "  ax.set_title('Posición de una partícula en una dimensión')\n",
    "              \n",
    "  plt.show()\n",
    " \n",
    "  return\n",
    "\n",
    "y=interactive(GraficoInteractivoPosición, posInicial=widgets.IntSlider(min=-10.0, max=10.0, step=1.0, value=0.0, description='Posición inicial (m):'),\n",
    "              velInicial=widgets.IntSlider(min=-50.0, max=50.0, step=1.0, value=0.0, description='Velocidad (m/s):'),\n",
    "              aceleración=widgets.IntSlider(min=-5, max=5, step=1, value=0, description='Aceleración (m/s^2):'),\n",
    "              tiempo=widgets.IntSlider(min=0, max=30, step=1, value=0, description='Tiempo (s):'))\n",
    "display(y)"
   ]
  },
  {
   "cell_type": "markdown",
   "metadata": {},
   "source": [
    "Para el caso del desplazamiento, se puede utilizar la ecuación:\n",
    "$$\n",
    "x = x_0 + v(t-t_0) + \\dfrac{1}{2}a(t-t_0)^2\n",
    "$$\n",
    "La cual tiene la forma de una ecuación cuadrática.\n",
    "Se puede observar que con base a la ecuación anterior, la aceleración es el coeficiente cuadrático o la constante \"a\" en la expresión general. La velocidad es por su parte el coeficiente lineal o la constante \"b\". Finalmente, la posición incial es el coficiente independiente o la constante \"c\".\n"
   ]
  },
  {
   "cell_type": "code",
   "execution_count": 5,
   "metadata": {},
   "outputs": [
    {
     "data": {
      "application/vnd.jupyter.widget-view+json": {
       "model_id": "312b13f4384b47ab922a7f038a9e6fbc",
       "version_major": 2,
       "version_minor": 0
      },
      "text/plain": [
       "interactive(children=(IntSlider(value=0, description='Posición inicial (m):', max=10, min=-10), IntSlider(valu…"
      ]
     },
     "metadata": {},
     "output_type": "display_data"
    }
   ],
   "source": [
    "def GraficoInteractivoPosición(posInicial, velInicial, aceleración,tiempo):\n",
    "\n",
    "  arregloTiempo = np.linspace (0, tiempo, 20)\n",
    "  aceleraciónActual = np.ones (20) * aceleración    \n",
    " \n",
    "  fig, ax = plt.subplots (dpi=120)\n",
    "    \n",
    "  ax.set_xlabel('Tiempo (s)')\n",
    "  ax.set_ylabel('Aceleración (m/s^2)')\n",
    "  plt.xlim (0, 35)\n",
    "  plt.ylim (-10, 10)\n",
    "  ax.plot (arregloTiempo, aceleraciónActual)\n",
    "  ax.set_title('Aceleración de una partícula en una dimensión')\n",
    "              \n",
    "  plt.show()\n",
    " \n",
    "  return\n",
    "\n",
    "y=interactive(GraficoInteractivoPosición, posInicial=widgets.IntSlider(min=-10.0, max=10.0, step=1.0, value=0.0, description='Posición inicial (m):'),\n",
    "              velInicial=widgets.IntSlider(min=-50.0, max=50.0, step=1.0, value=0.0, description='Velocidad inicial (m/s):'),\n",
    "              aceleración=widgets.IntSlider(min=-5, max=5, step=1, value=0, description='Aceleración (m/s^2):'),\n",
    "              tiempo=widgets.IntSlider(min=0, max=30, step=1, value=0, description='Tiempo (s):'))\n",
    "display(y)"
   ]
  },
  {
   "cell_type": "markdown",
   "metadata": {},
   "source": [
    "Finalmente al graficar la aceleración en el recorrido, se observa que esta es independiente de la posición y la velocidad inicial. Esta mantiene un comportamiento constante durante cada instante del movimiento, debido a que se está trabajando con problemas de aceleración constante. "
   ]
  },
  {
   "cell_type": "markdown",
   "metadata": {},
   "source": []
  }
 ],
 "metadata": {
  "kernelspec": {
   "display_name": "Python 3",
   "language": "python",
   "name": "python3"
  },
  "language_info": {
   "codemirror_mode": {
    "name": "ipython",
    "version": 3
   },
   "file_extension": ".py",
   "mimetype": "text/x-python",
   "name": "python",
   "nbconvert_exporter": "python",
   "pygments_lexer": "ipython3",
   "version": "3.7.6"
  }
 },
 "nbformat": 4,
 "nbformat_minor": 2
}
